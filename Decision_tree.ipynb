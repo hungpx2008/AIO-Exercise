{
  "nbformat": 4,
  "nbformat_minor": 0,
  "metadata": {
    "colab": {
      "provenance": [],
      "authorship_tag": "ABX9TyO2ti/jxFUVNy31y3h/Kje1",
      "include_colab_link": true
    },
    "kernelspec": {
      "name": "python3",
      "display_name": "Python 3"
    },
    "language_info": {
      "name": "python"
    }
  },
  "cells": [
    {
      "cell_type": "markdown",
      "metadata": {
        "id": "view-in-github",
        "colab_type": "text"
      },
      "source": [
        "<a href=\"https://colab.research.google.com/github/hungpx2008/AIO-Exercise/blob/main/Decision_tree.ipynb\" target=\"_parent\"><img src=\"https://colab.research.google.com/assets/colab-badge.svg\" alt=\"Open In Colab\"/></a>"
      ]
    },
    {
      "cell_type": "code",
      "execution_count": null,
      "metadata": {
        "id": "diMlHVqpZBo5"
      },
      "outputs": [],
      "source": [
        "# Import các thư viện cần thiết\n",
        "from sklearn import datasets\n",
        "from sklearn.model_selection import train_test_split\n",
        "from sklearn.metrics import accuracy_score\n",
        "from sklearn.tree import DecisionTreeClassifier\n",
        "\n",
        "# Load bộ dữ liệu Iris\n",
        "iris_X, iris_y = datasets.load_iris(return_X_y=True)\n",
        "\n",
        "# Chia dữ liệu thành tập train:test với tỷ lệ 8:2\n",
        "X_train, X_test, y_train, y_test = train_test_split(iris_X, iris_y, test_size=0.2, random_state=42)\n",
        "\n",
        "# Định nghĩa mô hình cây quyết định\n",
        "dt_classifier = DecisionTreeClassifier()\n",
        "\n",
        "# Huấn luyện mô hình với tập dữ liệu train\n",
        "dt_classifier.fit(X_train, y_train)\n",
        "\n",
        "# Dự đoán trên tập dữ liệu test\n",
        "y_pred = dt_classifier.predict(X_test)\n",
        "\n",
        "# Đánh giá độ chính xác của mô hình\n",
        "accuracy = accuracy_score(y_test, y_pred)\n",
        "\n",
        "# In kết quả độ chính xác\n",
        "print(f'Accuracy: {accuracy}')\n"
      ]
    }
  ]
}