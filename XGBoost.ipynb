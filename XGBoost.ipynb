{
  "nbformat": 4,
  "nbformat_minor": 0,
  "metadata": {
    "colab": {
      "provenance": [],
      "authorship_tag": "ABX9TyM/HI5Dp1AsVRN+wHq0lkLu",
      "include_colab_link": true
    },
    "kernelspec": {
      "name": "python3",
      "display_name": "Python 3"
    },
    "language_info": {
      "name": "python"
    }
  },
  "cells": [
    {
      "cell_type": "markdown",
      "metadata": {
        "id": "view-in-github",
        "colab_type": "text"
      },
      "source": [
        "<a href=\"https://colab.research.google.com/github/hungpx2008/AIO-Exercise/blob/main/XGBoost.ipynb\" target=\"_parent\"><img src=\"https://colab.research.google.com/assets/colab-badge.svg\" alt=\"Open In Colab\"/></a>"
      ]
    },
    {
      "cell_type": "code",
      "execution_count": null,
      "metadata": {
        "id": "vPJHHp7qW_Ig"
      },
      "outputs": [],
      "source": [
        "# Import các thư viện cần thiết\n",
        "import numpy as np\n",
        "import pandas as pd\n",
        "import matplotlib.pyplot as plt\n",
        "import xgboost as xgb\n",
        "from sklearn.metrics import mean_squared_error, mean_absolute_error\n",
        "from sklearn.preprocessing import OrdinalEncoder\n",
        "from sklearn.model_selection import train_test_split\n",
        "\n",
        "# Load dữ liệu\n",
        "dataset_path = '/content/Problem3.csv'\n",
        "data_df = pd.read_csv(dataset_path)\n",
        "\n",
        "# Chuyển đổi cột dạng danh mục thành số\n",
        "categorical_cols = data_df.select_dtypes(include=['object', 'bool']).columns.to_list()\n",
        "ordinal_encoder = OrdinalEncoder()\n",
        "encoded_categorical_cols = ordinal_encoder.fit_transform(data_df[categorical_cols])\n",
        "encoded_categorical_df = pd.DataFrame(encoded_categorical_cols, columns=categorical_cols)\n",
        "numerical_df = data_df.drop(categorical_cols, axis=1)\n",
        "encoded_df = pd.concat([numerical_df, encoded_categorical_df], axis=1)\n",
        "\n",
        "# Tách các biến X và y\n",
        "X = encoded_df.drop(columns=['area'])\n",
        "y = encoded_df['area']\n",
        "\n",
        "# Chia dữ liệu thành tập train và test\n",
        "X_train, X_test, y_train, y_test = train_test_split(X, y, test_size=0.3, random_state=7)\n",
        "\n",
        "# Xây dựng mô hình XGBoost cho Regression\n",
        "xg_reg = xgb.XGBRegressor(seed=7, learning_rate=0.01, n_estimators=102, max_depth=3)\n",
        "xg_reg.fit(X_train, y_train)\n",
        "\n",
        "# Dự đoán và đánh giá trên tập test\n",
        "preds = xg_reg.predict(X_test)\n",
        "mae = mean_absolute_error(y_test, preds)\n",
        "mse = mean_squared_error(y_test, preds)\n",
        "\n",
        "print('Evaluation results on test set:')\n",
        "print(f'Mean Absolute Error: {mae}')\n",
        "print(f'Mean Squared Error: {mse}')\n"
      ]
    },
    {
      "cell_type": "code",
      "source": [
        "# Import các thư viện cần thiết\n",
        "import numpy as np\n",
        "import pandas as pd\n",
        "import matplotlib.pyplot as plt\n",
        "import xgboost as xgb\n",
        "from sklearn.metrics import accuracy_score\n",
        "from sklearn.model_selection import train_test_split\n",
        "\n",
        "# Load dữ liệu\n",
        "dataset_path = '/content/Problem4.csv'\n",
        "data_df = pd.read_csv(dataset_path)\n",
        "\n",
        "# Tách các biến X và y\n",
        "X, y = data_df.iloc[:, :-1], data_df.iloc[:, -1]\n",
        "\n",
        "# Chia dữ liệu thành tập train và test\n",
        "X_train, X_test, y_train, y_test = train_test_split(X, y, test_size=0.3, random_state=7)\n",
        "\n",
        "# Xây dựng mô hình XGBoost cho Classification\n",
        "xg_class = xgb.XGBClassifier(seed=7)\n",
        "xg_class.fit(X_train, y_train)\n",
        "\n",
        "# Dự đoán và đánh giá trên tập test\n",
        "preds = xg_class.predict(X_test)\n",
        "train_acc = accuracy_score(y_train, xg_class.predict(X_train))\n",
        "test_acc = accuracy_score(y_test, preds)\n",
        "\n",
        "print(f'Train ACC: {train_acc}')\n",
        "print(f'Test ACC: {test_acc}')\n"
      ],
      "metadata": {
        "id": "Rz1ltf2_XEKP"
      },
      "execution_count": null,
      "outputs": []
    },
    {
      "cell_type": "code",
      "source": [
        "# Đánh giá MAE trên tập test\n",
        "preds = xg_reg.predict(X_test)\n",
        "mae = mean_absolute_error(y_test, preds)\n",
        "\n",
        "print(f'MAE of the model on test set: {mae}')\n"
      ],
      "metadata": {
        "id": "G0KVmJk4XGKy"
      },
      "execution_count": null,
      "outputs": []
    },
    {
      "cell_type": "code",
      "source": [
        "# Đánh giá độ chính xác (Accuracy) trên tập test\n",
        "preds = xg_class.predict(X_test)\n",
        "accuracy = accuracy_score(y_test, preds)\n",
        "\n",
        "print(f'Accuracy of the model on test set: {accuracy}')\n"
      ],
      "metadata": {
        "id": "7tNIIB1gXI36"
      },
      "execution_count": null,
      "outputs": []
    }
  ]
}