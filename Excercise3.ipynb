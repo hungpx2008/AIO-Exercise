{
  "nbformat": 4,
  "nbformat_minor": 0,
  "metadata": {
    "colab": {
      "provenance": [],
      "authorship_tag": "ABX9TyM+r3j0fC78fiYCym7ssWBG",
      "include_colab_link": true
    },
    "kernelspec": {
      "name": "python3",
      "display_name": "Python 3"
    },
    "language_info": {
      "name": "python"
    }
  },
  "cells": [
    {
      "cell_type": "markdown",
      "metadata": {
        "id": "view-in-github",
        "colab_type": "text"
      },
      "source": [
        "<a href=\"https://colab.research.google.com/github/hungpx2008/AIO-Exercise/blob/Feature%2FExercise-activate-funtion/Excercise3.ipynb\" target=\"_parent\"><img src=\"https://colab.research.google.com/assets/colab-badge.svg\" alt=\"Open In Colab\"/></a>"
      ]
    },
    {
      "cell_type": "code",
      "execution_count": 55,
      "metadata": {
        "id": "FLq_Vu1qOPZR"
      },
      "outputs": [],
      "source": [
        "#Viết class và cài phương thức softmax.\n",
        "import torch\n",
        "import torch.nn as nn"
      ]
    },
    {
      "cell_type": "code",
      "source": [
        "data = torch.Tensor([1,2,3])\n",
        "data"
      ],
      "metadata": {
        "colab": {
          "base_uri": "https://localhost:8080/"
        },
        "id": "CF5ZF19rOP3D",
        "outputId": "57081065-ddb0-4981-a58c-6965debe36b4"
      },
      "execution_count": 56,
      "outputs": [
        {
          "output_type": "execute_result",
          "data": {
            "text/plain": [
              "tensor([1., 2., 3.])"
            ]
          },
          "metadata": {},
          "execution_count": 56
        }
      ]
    },
    {
      "cell_type": "code",
      "source": [
        "softmax_function=nn.Softmax(dim=0)\n",
        "output=softmax_function(data)\n",
        "output"
      ],
      "metadata": {
        "colab": {
          "base_uri": "https://localhost:8080/"
        },
        "id": "qpNLVcvZTP6R",
        "outputId": "f92f870d-5dac-483c-fb89-4b2e3dc3691f"
      },
      "execution_count": 57,
      "outputs": [
        {
          "output_type": "execute_result",
          "data": {
            "text/plain": [
              "tensor([0.0900, 0.2447, 0.6652])"
            ]
          },
          "metadata": {},
          "execution_count": 57
        }
      ]
    },
    {
      "cell_type": "code",
      "source": [
        "class MySoftmax(nn.Module):\n",
        "  def __init__(self):\n",
        "    super().__init__()\n",
        "  def forward(self,x):\n",
        "    x_exp=torch.exp(x)\n",
        "    total=x_exp.sum(0,keepdim=True)\n",
        "    return x_exp/total\n",
        "my_softmax=MySoftmax()\n",
        "output=my_softmax(torch.Tensor([1, 2, 3000000000])\n",
        ")\n",
        "output"
      ],
      "metadata": {
        "colab": {
          "base_uri": "https://localhost:8080/"
        },
        "id": "pMdDjaAsTltl",
        "outputId": "e9df73fb-cee8-4aab-c782-7f01ef72ddf6"
      },
      "execution_count": 97,
      "outputs": [
        {
          "output_type": "execute_result",
          "data": {
            "text/plain": [
              "tensor([0., 0., nan])"
            ]
          },
          "metadata": {},
          "execution_count": 97
        }
      ]
    },
    {
      "cell_type": "code",
      "source": [
        "class StableSoftmax(nn.Module):\n",
        "  def __init__(self):\n",
        "    super().__init__()\n",
        "  def forward(self,x):\n",
        "    c = torch.max(x,dim=0)\n",
        "    x_exp=torch.exp(x-c.values)\n",
        "    total=x_exp.sum(0,keepdim=True)\n",
        "    return x_exp/total\n",
        "stable_softmax=StableSoftmax()\n",
        "output=stable_softmax(torch.Tensor([1,2,3]))\n",
        "output\n",
        ""
      ],
      "metadata": {
        "colab": {
          "base_uri": "https://localhost:8080/"
        },
        "id": "LEHlWMrmUucM",
        "outputId": "4c064e80-bd38-45c5-ccd1-2541099e9e7e"
      },
      "execution_count": 98,
      "outputs": [
        {
          "output_type": "execute_result",
          "data": {
            "text/plain": [
              "tensor([0.0900, 0.2447, 0.6652])"
            ]
          },
          "metadata": {},
          "execution_count": 98
        }
      ]
    },
    {
      "cell_type": "code",
      "source": [
        "#2\n",
        "from abc import ABC, abstractmethod\n"
      ],
      "metadata": {
        "id": "hOx0ZUNhXfn4"
      },
      "execution_count": 60,
      "outputs": []
    },
    {
      "cell_type": "code",
      "source": [
        "class Person(ABC):\n",
        "  def  __init__(self,name,yob):\n",
        "    self.name=name\n",
        "    self.yob=yob\n",
        "  @abstractmethod\n",
        "  def describe(self):\n",
        "    print(f\"I am {self.name}\")\n",
        "class Student(Person):\n",
        "  def __init__(self,name,yob,grade):\n",
        "    super().__init__(name,yob)\n",
        "    self.__grade=grade\n",
        "  def describe(self):\n",
        "    print(f\"I am: {self.name} and I am : {self.yob} years old- Grade: {self.__grade}\")\n"
      ],
      "metadata": {
        "id": "0Uo8C7-4Yi8T"
      },
      "execution_count": 61,
      "outputs": []
    },
    {
      "cell_type": "code",
      "source": [
        "student1=Student(\"Nam\",2001,10)\n",
        "student1.describe()"
      ],
      "metadata": {
        "colab": {
          "base_uri": "https://localhost:8080/"
        },
        "id": "UURAseLdZoTP",
        "outputId": "3cbd41d9-9179-428a-ad5b-7c8778f0af2e"
      },
      "execution_count": 62,
      "outputs": [
        {
          "output_type": "stream",
          "name": "stdout",
          "text": [
            "I am: Nam and I am : 2001 years old- Grade: 10\n"
          ]
        }
      ]
    },
    {
      "cell_type": "code",
      "source": [
        "class Doctor(Person):\n",
        "  def __init__(self,name,yob,specialist):\n",
        "    super().__init__(name,yob)\n",
        "    self.__specialist=specialist\n",
        "  def describe(self):\n",
        "    print(f\"I am: {self.name} and I am : {self.yob} years old- specialist: {self.__specialist}\")"
      ],
      "metadata": {
        "id": "KJ7tF7n0Z12L"
      },
      "execution_count": 63,
      "outputs": []
    },
    {
      "cell_type": "code",
      "source": [
        "doctor1=Doctor(\"Nam\",2001,\"Medicine\")\n",
        "doctor2=Doctor(\"hung\",2002,\"Medicine2\")\n",
        "doctor1.describe()"
      ],
      "metadata": {
        "colab": {
          "base_uri": "https://localhost:8080/"
        },
        "id": "aFd1N-cuZ_nN",
        "outputId": "5fab4391-a7da-4060-cbda-b7eac4edf9e1"
      },
      "execution_count": 64,
      "outputs": [
        {
          "output_type": "stream",
          "name": "stdout",
          "text": [
            "I am: Nam and I am : 2001 years old- specialist: Medicine\n"
          ]
        }
      ]
    },
    {
      "cell_type": "code",
      "source": [
        "class Teacher(Person):\n",
        "  def __init__(self,name,yob,subject):\n",
        "    super().__init__(name,yob)\n",
        "    self.__subject=subject\n",
        "  def describe(self):\n",
        "    print(f\"I am: {self.name} and I am : {self.yob} years old- subject: {self.__subject}\")"
      ],
      "metadata": {
        "id": "lcCO37nqaayG"
      },
      "execution_count": 65,
      "outputs": []
    },
    {
      "cell_type": "code",
      "source": [
        "class Ward:\n",
        "    def __init__(self,name):\n",
        "        self.__name=name\n",
        "        self.__list_people=[]\n",
        "    def add_person(self,person):\n",
        "        self.__list_people.append(person)\n",
        "    def remove_person(self,person):\n",
        "        self.__list_people.remove(person)\n",
        "    def describe(self):\n",
        "        print(f\"Ward: {self.__name}\")\n",
        "        for person in self.__list_people:\n",
        "            person.describe()\n",
        "    def list_people(self):\n",
        "        return self.__list_people\n",
        "    def count_doctor(self):\n",
        "        count=0\n",
        "        for person in self.__list_people:\n",
        "            if isinstance(person,Doctor):\n",
        "                count+=1\n",
        "        return count\n",
        "    def sort_yob(self):\n",
        "        return sorted(self.__list_people,key=lambda x:x.yob)\n",
        "    def compute_average(self):\n",
        "        total=0\n",
        "        count=0\n",
        "        for person in self.__list_people:\n",
        "            if isinstance(person,Teacher):\n",
        "              count +=1\n",
        "              total+=person.yob\n",
        "        return total/len(self.__list_people)"
      ],
      "metadata": {
        "id": "_LKMZbVIaoB3"
      },
      "execution_count": 71,
      "outputs": []
    },
    {
      "cell_type": "code",
      "source": [
        "ward1=Ward(\"Ward1\")\n",
        "ward1.add_person(doctor1)\n",
        "ward1.add_person(doctor2)\n",
        "ward1.add_person(student1)\n",
        "ward1.describe()\n",
        "ward1.list_people()\n",
        "ward1.count_doctor()\n",
        "ward1.sort_yob()"
      ],
      "metadata": {
        "colab": {
          "base_uri": "https://localhost:8080/"
        },
        "collapsed": true,
        "id": "GN0YfPzKcY91",
        "outputId": "5d086f1e-26ce-4327-c15e-c58f744b99fb"
      },
      "execution_count": 72,
      "outputs": [
        {
          "output_type": "stream",
          "name": "stdout",
          "text": [
            "Ward: Ward1\n",
            "I am: Nam and I am : 2001 years old- specialist: Medicine\n",
            "I am: hung and I am : 2002 years old- specialist: Medicine2\n",
            "I am: Nam and I am : 2001 years old- Grade: 10\n"
          ]
        },
        {
          "output_type": "execute_result",
          "data": {
            "text/plain": [
              "[<__main__.Doctor at 0x7ef6796215d0>,\n",
              " <__main__.Student at 0x7ef679623cd0>,\n",
              " <__main__.Doctor at 0x7ef679620c70>]"
            ]
          },
          "metadata": {},
          "execution_count": 72
        }
      ]
    },
    {
      "cell_type": "code",
      "source": [
        "#3Thực hiện xây dựng class Stack với các phương thức\n",
        "class MyStack:\n",
        "  def __init__(self,capacity):\n",
        "    self.__capacity=capacity\n",
        "    self.__list=[]\n",
        "  def is_empty(self):\n",
        "    return len(self.__list)==0\n",
        "  def is_full(self):\n",
        "    return len(self.__list)==self.__capacity\n",
        "  def push(self,item):\n",
        "    if not self.is_full():\n",
        "      raise Exception(\"Stack is full\")\n",
        "    else:\n",
        "      self.__list.append(item)\n",
        "  def pop(self):\n",
        "    if not self.is_empty():\n",
        "      return self.__list.pop()\n",
        "  def top(self):\n",
        "    if not self.is_empty():\n",
        "      return self.__list[-1]\n"
      ],
      "metadata": {
        "id": "-YjsQQNZeGbg"
      },
      "execution_count": 80,
      "outputs": []
    },
    {
      "cell_type": "code",
      "source": [
        "my_stack=MyStack(3)\n",
        "my_stack.is_empty()"
      ],
      "metadata": {
        "colab": {
          "base_uri": "https://localhost:8080/"
        },
        "id": "3Rc1XX0dhjWi",
        "outputId": "b51f9f65-3cea-4d18-b83d-23b0221ee4fa"
      },
      "execution_count": 79,
      "outputs": [
        {
          "output_type": "execute_result",
          "data": {
            "text/plain": [
              "True"
            ]
          },
          "metadata": {},
          "execution_count": 79
        }
      ]
    },
    {
      "cell_type": "code",
      "source": [
        "#4.Thực hiện xây dựng class Queue với các chức năng"
      ],
      "metadata": {
        "id": "fTiETM0qcqG5"
      },
      "execution_count": null,
      "outputs": []
    },
    {
      "cell_type": "code",
      "source": [
        "class MyQueue:\n",
        "  def __init__(self,capacity):\n",
        "    self.__capacity=capacity\n",
        "    self.__queue=[]\n",
        "  def is_empty(self):\n",
        "    return len(self.__queue)==0\n",
        "  def is_full(self):\n",
        "    return len(self.__queue)==self.__capacity\n",
        "  def enqueue(self,value):\n",
        "    if self.is_full():\n",
        "      raise Exception(\"Queue is full\")\n",
        "    else:\n",
        "      self.__queue.append(value)\n",
        "  def dequeue(self):\n",
        "    if self.is_empty():\n",
        "      raise Exception(\"Queue is empty\")\n",
        "    else:\n",
        "      return self.__queue.pop(0)"
      ],
      "metadata": {
        "id": "bXoM4XvspSol"
      },
      "execution_count": 88,
      "outputs": []
    },
    {
      "cell_type": "code",
      "source": [
        "my_queue=MyQueue(5)\n",
        "my_queue.is_empty()\n",
        "my_queue.enqueue(1)\n",
        "my_queue.enqueue(2)\n",
        "my_queue.enqueue(3)\n",
        "my_queue.enqueue(4)\n",
        "my_queue.enqueue(5)"
      ],
      "metadata": {
        "id": "QSoaY1N-qdMA"
      },
      "execution_count": 90,
      "outputs": []
    },
    {
      "cell_type": "code",
      "source": [
        "my_queue.enqueue(6)"
      ],
      "metadata": {
        "id": "EmK2FCegrJlf"
      },
      "execution_count": 93,
      "outputs": []
    },
    {
      "cell_type": "code",
      "source": [
        "my_queue.dequeue()"
      ],
      "metadata": {
        "colab": {
          "base_uri": "https://localhost:8080/"
        },
        "id": "jRdTYpmnqiuE",
        "outputId": "e15e518a-9051-42b4-b8d5-397c11649367"
      },
      "execution_count": 92,
      "outputs": [
        {
          "output_type": "execute_result",
          "data": {
            "text/plain": [
              "1"
            ]
          },
          "metadata": {},
          "execution_count": 92
        }
      ]
    }
  ]
}