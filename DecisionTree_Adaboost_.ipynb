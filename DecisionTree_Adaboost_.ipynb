{
  "nbformat": 4,
  "nbformat_minor": 0,
  "metadata": {
    "colab": {
      "provenance": [],
      "authorship_tag": "ABX9TyO4TE8oX4Zk4vXq8Zor/mfS",
      "include_colab_link": true
    },
    "kernelspec": {
      "name": "python3",
      "display_name": "Python 3"
    },
    "language_info": {
      "name": "python"
    }
  },
  "cells": [
    {
      "cell_type": "markdown",
      "metadata": {
        "id": "view-in-github",
        "colab_type": "text"
      },
      "source": [
        "<a href=\"https://colab.research.google.com/github/hungpx2008/AIO-Exercise/blob/main/DecisionTree_Adaboost_.ipynb\" target=\"_parent\"><img src=\"https://colab.research.google.com/assets/colab-badge.svg\" alt=\"Open In Colab\"/></a>"
      ]
    },
    {
      "cell_type": "code",
      "execution_count": 1,
      "metadata": {
        "colab": {
          "base_uri": "https://localhost:8080/"
        },
        "id": "l48Tmay2iyBZ",
        "outputId": "c60ba16e-9bfe-41e7-9646-2fc60aa72df5"
      },
      "outputs": [
        {
          "output_type": "stream",
          "name": "stdout",
          "text": [
            "Evaluation results on validation set (Random Forest):\n",
            "Mean Absolute Error: 0.46093873321571177\n",
            "Mean Squared Error: 0.37944418523089524\n",
            "\n",
            "Evaluation results on validation set (AdaBoost):\n",
            "Mean Absolute Error: 0.567680019897059\n",
            "Mean Squared Error: 0.5739244030038942\n",
            "\n",
            "Evaluation results on validation set (Gradient Boosting):\n",
            "Mean Absolute Error: 0.4516626127750995\n",
            "Mean Squared Error: 0.39610445936979427\n"
          ]
        }
      ],
      "source": [
        "# 1. Import các thư viện cần thiết\n",
        "import numpy as np\n",
        "import pandas as pd\n",
        "import matplotlib.pyplot as plt\n",
        "from sklearn.tree import DecisionTreeRegressor\n",
        "from sklearn.ensemble import RandomForestRegressor, AdaBoostRegressor, GradientBoostingRegressor\n",
        "from sklearn.preprocessing import OrdinalEncoder, StandardScaler\n",
        "from sklearn.model_selection import train_test_split\n",
        "from sklearn.metrics import mean_absolute_error, mean_squared_error\n",
        "\n",
        "# 2. Đọc dữ liệu\n",
        "dataset_path = '/content/Housing.csv'\n",
        "df = pd.read_csv(dataset_path)\n",
        "\n",
        "# 3. Xử lý dữ liệu categorical\n",
        "categorical_cols = df.select_dtypes(include=['object']).columns.to_list()\n",
        "ordinal_encoder = OrdinalEncoder()\n",
        "encoded_categorical_cols = ordinal_encoder.fit_transform(df[categorical_cols])\n",
        "encoded_categorical_df = pd.DataFrame(encoded_categorical_cols, columns=categorical_cols)\n",
        "numerical_df = df.drop(categorical_cols, axis=1)\n",
        "encoded_df = pd.concat([numerical_df, encoded_categorical_df], axis=1)\n",
        "\n",
        "# 4. Chuẩn hóa dữ liệu\n",
        "normalizer = StandardScaler()\n",
        "dataset_arr = normalizer.fit_transform(encoded_df)\n",
        "\n",
        "# 5. Tách dữ liệu X và y\n",
        "X, y = dataset_arr[:, 1:], dataset_arr[:, 0]\n",
        "\n",
        "# 6. Chia tập dữ liệu train và val\n",
        "test_size = 0.3\n",
        "random_state = 1\n",
        "is_shuffle = True\n",
        "X_train, X_val, y_train, y_val = train_test_split(X, y, test_size=test_size, random_state=random_state, shuffle=is_shuffle)\n",
        "\n",
        "# 7. Huấn luyện mô hình Random Forest\n",
        "rf_regressor = RandomForestRegressor(random_state=random_state)\n",
        "rf_regressor.fit(X_train, y_train)\n",
        "\n",
        "# 8. Huấn luyện mô hình AdaBoost\n",
        "adaboost_regressor = AdaBoostRegressor(random_state=random_state)\n",
        "adaboost_regressor.fit(X_train, y_train)\n",
        "\n",
        "# 9. Huấn luyện mô hình Gradient Boosting\n",
        "gb_regressor = GradientBoostingRegressor(random_state=random_state)\n",
        "gb_regressor.fit(X_train, y_train)\n",
        "\n",
        "# 10. Đánh giá mô hình Random Forest\n",
        "y_pred_rf = rf_regressor.predict(X_val)\n",
        "mae_rf = mean_absolute_error(y_val, y_pred_rf)\n",
        "mse_rf = mean_squared_error(y_val, y_pred_rf)\n",
        "\n",
        "# 11. Đánh giá mô hình AdaBoost\n",
        "y_pred_adaboost = adaboost_regressor.predict(X_val)\n",
        "mae_adaboost = mean_absolute_error(y_val, y_pred_adaboost)\n",
        "mse_adaboost = mean_squared_error(y_val, y_pred_adaboost)\n",
        "\n",
        "# 12. Đánh giá mô hình Gradient Boosting\n",
        "y_pred_gb = gb_regressor.predict(X_val)\n",
        "mae_gb = mean_absolute_error(y_val, y_pred_gb)\n",
        "mse_gb = mean_squared_error(y_val, y_pred_gb)\n",
        "\n",
        "# In kết quả đánh giá\n",
        "print('Evaluation results on validation set (Random Forest):')\n",
        "print(f'Mean Absolute Error: {mae_rf}')\n",
        "print(f'Mean Squared Error: {mse_rf}')\n",
        "\n",
        "print('\\nEvaluation results on validation set (AdaBoost):')\n",
        "print(f'Mean Absolute Error: {mae_adaboost}')\n",
        "print(f'Mean Squared Error: {mse_adaboost}')\n",
        "\n",
        "print('\\nEvaluation results on validation set (Gradient Boosting):')\n",
        "print(f'Mean Absolute Error: {mae_gb}')\n",
        "print(f'Mean Squared Error: {mse_gb}')\n"
      ]
    }
  ]
}