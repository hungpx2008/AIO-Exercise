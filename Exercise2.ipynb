{
  "nbformat": 4,
  "nbformat_minor": 0,
  "metadata": {
    "colab": {
      "provenance": [],
      "authorship_tag": "ABX9TyM6fGU/bb6Wcl+lDAJgZVjj",
      "include_colab_link": true
    },
    "kernelspec": {
      "name": "python3",
      "display_name": "Python 3"
    },
    "language_info": {
      "name": "python"
    }
  },
  "cells": [
    {
      "cell_type": "markdown",
      "metadata": {
        "id": "view-in-github",
        "colab_type": "text"
      },
      "source": [
        "<a href=\"https://colab.research.google.com/github/hungpx2008/AIO-Exercise/blob/Feature%2FExercise-activate-funtion/Exercise2.ipynb\" target=\"_parent\"><img src=\"https://colab.research.google.com/assets/colab-badge.svg\" alt=\"Open In Colab\"/></a>"
      ]
    },
    {
      "cell_type": "code",
      "execution_count": 38,
      "metadata": {
        "colab": {
          "base_uri": "https://localhost:8080/"
        },
        "id": "iviFrXL-kpfJ",
        "outputId": "98b46e6f-53c8-4b45-8564-df9a36b3c9b7"
      },
      "outputs": [
        {
          "output_type": "stream",
          "name": "stdout",
          "text": [
            "Lượt thứ 1 list [3, 4, 5] phần tử max là: 5\n",
            "Lượt thứ 2 list [4, 5, 1] phần tử max là: 5\n",
            "Lượt thứ 3 list [5, 1, -44] phần tử max là: 5\n",
            "Lượt thứ 4 list [1, -44, 5] phần tử max là: 5\n",
            "Lượt thứ 5 list [-44, 5, 10] phần tử max là: 10\n",
            "Lượt thứ 6 list [5, 10, 12] phần tử max là: 12\n",
            "Lượt thứ 7 list [10, 12, 33] phần tử max là: 33\n",
            "Lượt thứ 8 list [12, 33, 1] phần tử max là: 33\n",
            "Lượt thứ 9 list [33, 1, 5] phần tử max là: 33\n",
            "Lượt thứ 10 list [1, 5, 6] phần tử max là: 6\n",
            "Lượt thứ 11 list [5, 6, 7] phần tử max là: 7\n"
          ]
        }
      ],
      "source": [
        "# 1.TÌm số lớn nhất trong list\n",
        "num_list = [3, 4, 5, 1, -44 , 5 ,10, 12 ,33, 1,5,6,7]\n",
        "k=3\n",
        "def find_max_num(num_list, k):\n",
        "  for i in range(len(num_list)-k+1):\n",
        "      max_result=max(num_list[i:k+i])\n",
        "      print(f\"Lượt thứ {i+1} list {num_list[i:k+i]} phần tử max là: {max_result}\")\n",
        "find_max_num(num_list, k)"
      ]
    },
    {
      "cell_type": "code",
      "source": [
        "len(num_list)"
      ],
      "metadata": {
        "colab": {
          "base_uri": "https://localhost:8080/"
        },
        "id": "yELHKl5YobpZ",
        "outputId": "1a46bf27-60ea-4aa4-d326-b44b91c28103"
      },
      "execution_count": 14,
      "outputs": [
        {
          "output_type": "execute_result",
          "data": {
            "text/plain": [
              "10"
            ]
          },
          "metadata": {},
          "execution_count": 14
        }
      ]
    }
  ]
}