{
  "nbformat": 4,
  "nbformat_minor": 0,
  "metadata": {
    "colab": {
      "provenance": [],
      "authorship_tag": "ABX9TyOrqKiZReH+ZrNTa/iTBG9V",
      "include_colab_link": true
    },
    "kernelspec": {
      "name": "python3",
      "display_name": "Python 3"
    },
    "language_info": {
      "name": "python"
    }
  },
  "cells": [
    {
      "cell_type": "markdown",
      "metadata": {
        "id": "view-in-github",
        "colab_type": "text"
      },
      "source": [
        "<a href=\"https://colab.research.google.com/github/hungpx2008/AIO-Exercise/blob/Feature%2FExercise-activate-funtion/pixel_wise_matching_window_based_matchin.ipynb\" target=\"_parent\"><img src=\"https://colab.research.google.com/assets/colab-badge.svg\" alt=\"Open In Colab\"/></a>"
      ]
    },
    {
      "cell_type": "code",
      "execution_count": 1,
      "metadata": {
        "colab": {
          "base_uri": "https://localhost:8080/"
        },
        "id": "L9nw2uBOGclG",
        "outputId": "fd23806f-8116-499c-ca23-36d37860d12a"
      },
      "outputs": [
        {
          "output_type": "stream",
          "name": "stdout",
          "text": [
            "Saving result...\n",
            "Done.\n"
          ]
        }
      ],
      "source": [
        "import cv2\n",
        "import numpy as np\n",
        "\n",
        "def distance(x, y):\n",
        "    return abs(x - y)\n",
        "\n",
        "def pixel_wise_matching(left_img, right_img, disparity_range, save_result=True):\n",
        "    left = cv2.imread(left_img, 0)\n",
        "    right = cv2.imread(right_img, 0)\n",
        "\n",
        "    left = left.astype(np.float32)\n",
        "    right = right.astype(np.float32)\n",
        "\n",
        "    height, width = left.shape[:2]\n",
        "\n",
        "    depth = np.zeros((height, width), np.uint8)\n",
        "    scale = 16\n",
        "    max_value = 255\n",
        "\n",
        "    for y in range(height):\n",
        "        for x in range(width):\n",
        "            disparity = 0\n",
        "            cost_min = max_value\n",
        "\n",
        "            for j in range(disparity_range):\n",
        "                cost = max_value if (x - j) < 0 else distance(int(left[y, x]), int(right[y, x - j]))\n",
        "\n",
        "                if cost < cost_min:\n",
        "                    cost_min = cost\n",
        "                    disparity = j\n",
        "\n",
        "            # Gán giá trị disparity\n",
        "            depth[y, x] = disparity * scale\n",
        "\n",
        "    if save_result:\n",
        "        print('Saving result...')\n",
        "        cv2.imwrite('pixel_wise_l1.png', depth)\n",
        "        cv2.imwrite('pixel_wise_l1_color.png', cv2.applyColorMap(depth, cv2.COLORMAP_JET))\n",
        "        print('Done.')\n",
        "\n",
        "    return depth\n",
        "\n",
        "# Ví dụ sử dụng\n",
        "left_img_path = '/content/left.png'\n",
        "right_img_path = '/content/right.png'\n",
        "disparity_range = 16\n",
        "\n",
        "pixel_wise_result = pixel_wise_matching(left_img_path, right_img_path, disparity_range, save_result=True)\n"
      ]
    },
    {
      "cell_type": "code",
      "source": [
        "import cv2\n",
        "import numpy as np\n",
        "\n",
        "def distance(x, y):\n",
        "    return abs(x - y)\n",
        "\n",
        "def window_based_matching(left_img, right_img, disparity_range, kernel_size=5, save_result=True):\n",
        "    left = cv2.imread(left_img, 0)\n",
        "    right = cv2.imread(right_img, 0)\n",
        "\n",
        "    left = left.astype(np.float32)\n",
        "    right = right.astype(np.float32)\n",
        "\n",
        "    height, width = left.shape[:2]\n",
        "\n",
        "    depth = np.zeros((height, width), np.uint8)\n",
        "    kernel_half = int((kernel_size - 1) / 2)\n",
        "    scale = 3\n",
        "    max_value = 255 * 9\n",
        "\n",
        "    for y in range(kernel_half, height - kernel_half):\n",
        "        for x in range(kernel_half, width - kernel_half):\n",
        "            disparity = 0\n",
        "            cost_min = 65534\n",
        "\n",
        "            for j in range(disparity_range):\n",
        "                total = 0\n",
        "                value = 0\n",
        "\n",
        "                for v in range(-kernel_half, kernel_half + 1):\n",
        "                    for u in range(-kernel_half, kernel_half + 1):\n",
        "                        value = max_value\n",
        "                        if (x + u - j) >= 0:\n",
        "                            value = distance(int(left[y + v, x + u]), int(right[y + v, (x + u) - j]))\n",
        "                        total += value\n",
        "\n",
        "                if total < cost_min:\n",
        "                    cost_min = total\n",
        "                    disparity = j\n",
        "\n",
        "            depth[y, x] = disparity * scale\n",
        "\n",
        "    if save_result:\n",
        "        print('Saving result...')\n",
        "        cv2.imwrite('window_based_l1.png', depth)\n",
        "        cv2.imwrite('window_based_l1_color.png', cv2.applyColorMap(depth, cv2.COLORMAP_JET))\n",
        "        print('Done.')\n",
        "\n",
        "    return depth\n",
        "\n",
        "left_img_path = '/content/left.png'\n",
        "right_img_path = '/content/right.png'\n",
        "disparity_range = 64\n",
        "kernel_size = 5\n",
        "\n",
        "window_based_result = window_based_matching(left_img_path, right_img_path, disparity_range, kernel_size=kernel_size, save_result=True)\n"
      ],
      "metadata": {
        "colab": {
          "base_uri": "https://localhost:8080/"
        },
        "id": "93nfQBlLI1X-",
        "outputId": "4093f6cc-662d-435c-a115-e6ab5d4479cc"
      },
      "execution_count": 2,
      "outputs": [
        {
          "output_type": "stream",
          "name": "stdout",
          "text": [
            "Saving result...\n",
            "Done.\n"
          ]
        }
      ]
    }
  ]
}