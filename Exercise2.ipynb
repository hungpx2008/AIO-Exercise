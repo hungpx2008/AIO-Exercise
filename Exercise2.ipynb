{
  "nbformat": 4,
  "nbformat_minor": 0,
  "metadata": {
    "colab": {
      "provenance": [],
      "authorship_tag": "ABX9TyNscjKXa/7zwelmwKCur727",
      "include_colab_link": true
    },
    "kernelspec": {
      "name": "python3",
      "display_name": "Python 3"
    },
    "language_info": {
      "name": "python"
    }
  },
  "cells": [
    {
      "cell_type": "markdown",
      "metadata": {
        "id": "view-in-github",
        "colab_type": "text"
      },
      "source": [
        "<a href=\"https://colab.research.google.com/github/hungpx2008/AIO-Exercise/blob/Feature%2FExercise-activate-funtion/Exercise2.ipynb\" target=\"_parent\"><img src=\"https://colab.research.google.com/assets/colab-badge.svg\" alt=\"Open In Colab\"/></a>"
      ]
    },
    {
      "cell_type": "code",
      "execution_count": null,
      "metadata": {
        "colab": {
          "base_uri": "https://localhost:8080/"
        },
        "id": "iviFrXL-kpfJ",
        "outputId": "6270013c-dd61-457d-b817-b3a4eee3f880"
      },
      "outputs": [
        {
          "output_type": "stream",
          "name": "stdout",
          "text": [
            "Lượt thứ 1 list [3, 4, 5] phần tử max là: 5\n",
            "Lượt thứ 2 list [4, 5, 1] phần tử max là: 5\n",
            "Lượt thứ 3 list [5, 1, -44] phần tử max là: 5\n",
            "Lượt thứ 4 list [1, -44, 5] phần tử max là: 5\n",
            "Lượt thứ 5 list [-44, 5, 10] phần tử max là: 10\n",
            "Lượt thứ 6 list [5, 10, 12] phần tử max là: 12\n",
            "Lượt thứ 7 list [10, 12, 33] phần tử max là: 33\n",
            "Lượt thứ 8 list [12, 33, 1] phần tử max là: 33\n",
            "List bao gồm phần tử max: [5, 5, 5, 5, 10, 12, 33, 33]\n"
          ]
        }
      ],
      "source": [
        "# 1a.TÌm số lớn nhất trong list\n",
        "num_list = [3, 4, 5, 1, -44 , 5 ,10, 12 ,33, 1]\n",
        "k=3\n",
        "final_list=[]\n",
        "def find_max_num(num_list, k):\n",
        "  for i in range(len(num_list)-k+1):\n",
        "      max_result=max(num_list[i:k+i])\n",
        "      print(f\"Lượt thứ {i+1} list {num_list[i:k+i]} phần tử max là: {max_result}\")\n",
        "      final_list.append(max_result)\n",
        "  print(f\"List bao gồm phần tử max: {final_list}\")\n",
        "find_max_num(num_list, k)"
      ]
    },
    {
      "cell_type": "code",
      "source": [
        "# 1b.TÌm số lớn nhất trong list nhỏ\n",
        "num_list = [3, 4, 5, 1, -44 , 5 ,10, 12 ,33, 1]\n",
        "k=4\n",
        "sub_list=[]\n",
        "final_list=[]\n",
        "for element in num_list:\n",
        "  sub_list.append(element)\n",
        "  if len(sub_list)==k:\n",
        "    del sub_list[0]\n",
        "    max_result=max(sub_list)\n",
        "    print(f\"list {sub_list} phần tử max là: {max_result}\")\n",
        "    final_list.append(max_result)\n",
        "print(f\"List bao gồm phần tử max: {final_list}\")"
      ],
      "metadata": {
        "id": "KSeWKvzuNnOH",
        "outputId": "678461ac-4510-4c27-d1f1-37e994ceb8b9",
        "colab": {
          "base_uri": "https://localhost:8080/"
        }
      },
      "execution_count": 9,
      "outputs": [
        {
          "output_type": "stream",
          "name": "stdout",
          "text": [
            "list [4, 5, 1] phần tử max là: 5\n",
            "list [5, 1, -44] phần tử max là: 5\n",
            "list [1, -44, 5] phần tử max là: 5\n",
            "list [-44, 5, 10] phần tử max là: 10\n",
            "list [5, 10, 12] phần tử max là: 12\n",
            "list [10, 12, 33] phần tử max là: 33\n",
            "list [12, 33, 1] phần tử max là: 33\n",
            "List bao gồm phần tử max: [5, 5, 5, 10, 12, 33, 33]\n"
          ]
        }
      ]
    },
    {
      "cell_type": "code",
      "source": [
        "#2.Viết function trả về một dictionary đếm số lượng chữ xuất hiện trong một từ\n",
        "\n",
        "def count_char(string):\n",
        "     dict_count_chars={}\n",
        "     for i in string:\n",
        "        if i in dict_count_chars:\n",
        "            dict_count_chars[i]+=1\n",
        "        else:\n",
        "            dict_count_chars[i]=1\n",
        "     return dict_count_chars\n",
        "count_char(\"Happiness\")\n"
      ],
      "metadata": {
        "colab": {
          "base_uri": "https://localhost:8080/"
        },
        "id": "h8Z5eN8ot99P",
        "outputId": "e1f589e4-a401-410f-b481-4effeeb33747"
      },
      "execution_count": null,
      "outputs": [
        {
          "output_type": "execute_result",
          "data": {
            "text/plain": [
              "{'H': 1, 'a': 1, 'p': 2, 'i': 1, 'n': 1, 'e': 1, 's': 2}"
            ]
          },
          "metadata": {},
          "execution_count": 63
        }
      ]
    },
    {
      "cell_type": "code",
      "source": [
        "#2.Viết function trả về một dictionary đếm số lượng chữ xuất hiện trong một từ\n",
        "from itertools import count\n",
        "\n",
        "def count_chars(string):\n",
        "    dict_count_chars={}\n",
        "    for char in string:\n",
        "      if char not in dict_count_chars:\n",
        "        dict_count_chars[char]=string.count(char)\n",
        "    return dict_count_chars\n",
        "count_chars(\"smiles\")"
      ],
      "metadata": {
        "colab": {
          "base_uri": "https://localhost:8080/"
        },
        "id": "H7PbIDoCwjlH",
        "outputId": "7a569fb6-4216-4f24-9cdf-4412d1d86ddc"
      },
      "execution_count": null,
      "outputs": [
        {
          "output_type": "execute_result",
          "data": {
            "text/plain": [
              "{'s': 2, 'm': 1, 'i': 1, 'l': 1, 'e': 1}"
            ]
          },
          "metadata": {},
          "execution_count": 62
        }
      ]
    },
    {
      "cell_type": "code",
      "source": [
        "#3.Viết function đọc các câu trong một file txt\n",
        "!gdown https://drive.google.com/uc?id=1IBScGdW2xlNsc9v5zSAya548kNgiOrko\n"
      ],
      "metadata": {
        "id": "10H8Iguezz-N"
      },
      "execution_count": null,
      "outputs": []
    },
    {
      "cell_type": "code",
      "source": [
        "file_path = \"/content/P1_data.txt\""
      ],
      "metadata": {
        "id": "-c0XDjiR0ikF"
      },
      "execution_count": null,
      "outputs": []
    },
    {
      "cell_type": "code",
      "source": [
        "from itertools import count\n",
        "\n",
        "def count_word_in_file(file_path):\n",
        "    with open(file_path,'r') as file:\n",
        "        dict_count_word={}\n",
        "        contents = file.read().lower()\n",
        "        contents= contents.replace('.','')\n",
        "        words=contents.split()\n",
        "        for word in words:\n",
        "            if word not in dict_count_word:\n",
        "                dict_count_word[word]=1\n",
        "            else:\n",
        "                dict_count_word[word]+=1\n",
        "        return dict_count_word\n",
        "count_word_in_file(file_path)"
      ],
      "metadata": {
        "colab": {
          "base_uri": "https://localhost:8080/"
        },
        "id": "8_L8l79d0yK7",
        "outputId": "b9269cbd-61c3-469a-dc58-d5a04dc28e23"
      },
      "execution_count": null,
      "outputs": [
        {
          "output_type": "execute_result",
          "data": {
            "text/plain": [
              "{'he': 1,\n",
              " 'who': 3,\n",
              " 'conquers': 1,\n",
              " 'himself': 1,\n",
              " 'is': 3,\n",
              " 'the': 5,\n",
              " 'mightiest': 1,\n",
              " 'warrior': 1,\n",
              " 'try': 2,\n",
              " 'not': 1,\n",
              " 'to': 3,\n",
              " 'become': 2,\n",
              " 'a': 7,\n",
              " 'man': 6,\n",
              " 'of': 4,\n",
              " 'success': 3,\n",
              " 'but': 1,\n",
              " 'rather': 1,\n",
              " 'value': 1,\n",
              " 'one': 4,\n",
              " 'with': 4,\n",
              " 'courage': 1,\n",
              " 'makes': 1,\n",
              " 'majority': 1,\n",
              " 'secret': 1,\n",
              " 'in': 4,\n",
              " 'life': 2,\n",
              " 'for': 3,\n",
              " 'be': 1,\n",
              " 'ready': 1,\n",
              " 'his': 2,\n",
              " 'opportunity': 1,\n",
              " 'when': 2,\n",
              " 'it': 2,\n",
              " 'comes': 2,\n",
              " 'successful': 2,\n",
              " 'will': 2,\n",
              " 'profit': 1,\n",
              " 'from': 1,\n",
              " 'mistakes': 1,\n",
              " 'and': 1,\n",
              " 'again': 1,\n",
              " 'different': 1,\n",
              " 'way': 1,\n",
              " 'can': 3,\n",
              " 'lay': 1,\n",
              " 'firm': 1,\n",
              " 'foundation': 1,\n",
              " 'bricks': 1,\n",
              " 'others': 1,\n",
              " 'have': 1,\n",
              " 'thrown': 1,\n",
              " 'at': 1,\n",
              " 'him': 1,\n",
              " 'usually': 1,\n",
              " 'those': 1,\n",
              " 'are': 1,\n",
              " 'too': 1,\n",
              " 'busy': 1,\n",
              " 'looking': 1,\n",
              " 'we': 3,\n",
              " 'cannot': 1,\n",
              " 'solve': 1,\n",
              " 'problems': 1,\n",
              " 'kind': 1,\n",
              " 'thinking': 1,\n",
              " 'employed': 1,\n",
              " 'came': 1,\n",
              " 'up': 1,\n",
              " 'them': 1,\n",
              " 'just': 2,\n",
              " 'small': 1,\n",
              " 'positive': 1,\n",
              " 'thought': 1,\n",
              " 'morning': 1,\n",
              " 'change': 1,\n",
              " 'your': 1,\n",
              " 'whole': 1,\n",
              " 'day': 1,\n",
              " 'you': 3,\n",
              " 'get': 2,\n",
              " 'everything': 1,\n",
              " 'want': 2,\n",
              " 'if': 1,\n",
              " 'help': 1,\n",
              " 'enough': 1,\n",
              " 'other': 1,\n",
              " 'people': 1,\n",
              " 'what': 1,\n",
              " 'they': 1}"
            ]
          },
          "metadata": {},
          "execution_count": 91
        }
      ]
    },
    {
      "cell_type": "code",
      "source": [
        "# 4.Viết chương trình tính khoảng cách chỉnh sửa tối thiểu Levenshtein.\\\n"
      ],
      "metadata": {
        "id": "s7gQjbOAknJ9"
      },
      "execution_count": null,
      "outputs": []
    }
  ]
}