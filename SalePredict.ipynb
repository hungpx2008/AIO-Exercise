{
  "nbformat": 4,
  "nbformat_minor": 0,
  "metadata": {
    "colab": {
      "provenance": [],
      "authorship_tag": "ABX9TyMidrBtqYJ2d0mmArHzEoIV",
      "include_colab_link": true
    },
    "kernelspec": {
      "name": "python3",
      "display_name": "Python 3"
    },
    "language_info": {
      "name": "python"
    }
  },
  "cells": [
    {
      "cell_type": "markdown",
      "metadata": {
        "id": "view-in-github",
        "colab_type": "text"
      },
      "source": [
        "<a href=\"https://colab.research.google.com/github/hungpx2008/AIO-Exercise/blob/main/SalePredict.ipynb\" target=\"_parent\"><img src=\"https://colab.research.google.com/assets/colab-badge.svg\" alt=\"Open In Colab\"/></a>"
      ]
    },
    {
      "cell_type": "code",
      "execution_count": 1,
      "metadata": {
        "colab": {
          "base_uri": "https://localhost:8080/"
        },
        "id": "SkYxwktxfGgK",
        "outputId": "3d4ea0c9-6fb2-45bd-dbf2-e44b1be2e83f"
      },
      "outputs": [
        {
          "output_type": "stream",
          "name": "stdout",
          "text": [
            "R2 Score: 0.9951796158547627\n"
          ]
        }
      ],
      "source": [
        "import pandas as pd\n",
        "from sklearn.model_selection import train_test_split\n",
        "from sklearn.preprocessing import StandardScaler, PolynomialFeatures\n",
        "from sklearn.linear_model import LinearRegression\n",
        "from sklearn.metrics import r2_score\n",
        "\n",
        "# Load dataset\n",
        "df = pd.read_csv(\"/content/SalesPrediction.csv\")\n",
        "\n",
        "# Preprocessing\n",
        "# One-hot encode the 'Influencer' categorical feature\n",
        "df = pd.get_dummies(df, columns=['Influencer'])\n",
        "\n",
        "# Handle Null values by filling with the mean of each column\n",
        "df = df.fillna(df.mean())\n",
        "\n",
        "# Get features and target\n",
        "X = df[['TV', 'Radio', 'Social Media', 'Influencer_Macro', 'Influencer_Mega',\n",
        "        'Influencer_Micro', 'Influencer_Nano']]\n",
        "y = df[['Sales']]\n",
        "\n",
        "# Train-Test Split\n",
        "X_train, X_test, y_train, y_test = train_test_split(X, y, test_size=0.33, random_state=0)\n",
        "\n",
        "# Feature Scaling\n",
        "scaler = StandardScaler()\n",
        "X_train_processed = scaler.fit_transform(X_train)\n",
        "X_test_processed = scaler.transform(X_test)\n",
        "\n",
        "# Polynomial Features\n",
        "poly_features = PolynomialFeatures(degree=2)\n",
        "X_train_poly = poly_features.fit_transform(X_train_processed)\n",
        "X_test_poly = poly_features.transform(X_test_processed)\n",
        "\n",
        "# Training & Evaluation\n",
        "poly_model = LinearRegression()\n",
        "poly_model.fit(X_train_poly, y_train)\n",
        "preds = poly_model.predict(X_test_poly)\n",
        "r2 = r2_score(y_test, preds)\n",
        "\n",
        "print(\"R2 Score:\", r2)\n"
      ]
    },
    {
      "cell_type": "code",
      "source": [
        "scaler = StandardScaler ()\n",
        "X_train_processed = scaler . fit_transform ( X_train )\n",
        "scaler . mean_ [0]"
      ],
      "metadata": {
        "colab": {
          "base_uri": "https://localhost:8080/"
        },
        "id": "vI-bsbu4fuc0",
        "outputId": "d252a24e-71dd-4b56-b2b9-9e5b802b839c"
      },
      "execution_count": 2,
      "outputs": [
        {
          "output_type": "execute_result",
          "data": {
            "text/plain": [
              "54.173577723283785"
            ]
          },
          "metadata": {},
          "execution_count": 2
        }
      ]
    }
  ]
}