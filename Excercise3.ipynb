{
  "nbformat": 4,
  "nbformat_minor": 0,
  "metadata": {
    "colab": {
      "provenance": [],
      "authorship_tag": "ABX9TyOVLMC4E5kbODgcCLvuBAA0",
      "include_colab_link": true
    },
    "kernelspec": {
      "name": "python3",
      "display_name": "Python 3"
    },
    "language_info": {
      "name": "python"
    }
  },
  "cells": [
    {
      "cell_type": "markdown",
      "metadata": {
        "id": "view-in-github",
        "colab_type": "text"
      },
      "source": [
        "<a href=\"https://colab.research.google.com/github/hungpx2008/AIO-Exercise/blob/Feature%2FExercise-activate-funtion/Excercise3.ipynb\" target=\"_parent\"><img src=\"https://colab.research.google.com/assets/colab-badge.svg\" alt=\"Open In Colab\"/></a>"
      ]
    },
    {
      "cell_type": "code",
      "execution_count": 55,
      "metadata": {
        "id": "FLq_Vu1qOPZR"
      },
      "outputs": [],
      "source": [
        "#Viết class và cài phương thức softmax.\n",
        "import torch\n",
        "import torch.nn as nn"
      ]
    },
    {
      "cell_type": "code",
      "source": [
        "data = torch.Tensor([1,2,3])\n",
        "data"
      ],
      "metadata": {
        "colab": {
          "base_uri": "https://localhost:8080/"
        },
        "id": "CF5ZF19rOP3D",
        "outputId": "57081065-ddb0-4981-a58c-6965debe36b4"
      },
      "execution_count": 56,
      "outputs": [
        {
          "output_type": "execute_result",
          "data": {
            "text/plain": [
              "tensor([1., 2., 3.])"
            ]
          },
          "metadata": {},
          "execution_count": 56
        }
      ]
    },
    {
      "cell_type": "code",
      "source": [
        "softmax_function=nn.Softmax(dim=0)\n",
        "output=softmax_function(data)\n",
        "output"
      ],
      "metadata": {
        "colab": {
          "base_uri": "https://localhost:8080/"
        },
        "id": "qpNLVcvZTP6R",
        "outputId": "f92f870d-5dac-483c-fb89-4b2e3dc3691f"
      },
      "execution_count": 57,
      "outputs": [
        {
          "output_type": "execute_result",
          "data": {
            "text/plain": [
              "tensor([0.0900, 0.2447, 0.6652])"
            ]
          },
          "metadata": {},
          "execution_count": 57
        }
      ]
    },
    {
      "cell_type": "code",
      "source": [
        "class MySoftmax(nn.Module):\n",
        "  def __init__(self):\n",
        "    super().__init__()\n",
        "  def forward(self,x):\n",
        "    x_exp=torch.exp(x)\n",
        "    total=x_exp.sum(0,keepdim=True)\n",
        "    return x_exp/total\n",
        "my_softmax=MySoftmax()\n",
        "output=my_softmax(data)\n",
        "output"
      ],
      "metadata": {
        "colab": {
          "base_uri": "https://localhost:8080/"
        },
        "id": "pMdDjaAsTltl",
        "outputId": "f6fd9828-1639-4956-9626-23522e5cd924"
      },
      "execution_count": 58,
      "outputs": [
        {
          "output_type": "execute_result",
          "data": {
            "text/plain": [
              "tensor([0.0900, 0.2447, 0.6652])"
            ]
          },
          "metadata": {},
          "execution_count": 58
        }
      ]
    },
    {
      "cell_type": "code",
      "source": [
        "class StableSoftmax(nn.Module):\n",
        "  def __init__(self):\n",
        "    super().__init__()\n",
        "  def forward(self,x):\n",
        "    c = torch.max(x,dim=0)\n",
        "    x_exp=torch.exp(x-c.values)\n",
        "    total=x_exp.sum(0,keepdim=True)\n",
        "    return x_exp/total\n",
        "stable_softmax=StableSoftmax()\n",
        "output=stable_softmax(torch.Tensor([1,2,3000000]))\n",
        "output\n",
        ""
      ],
      "metadata": {
        "colab": {
          "base_uri": "https://localhost:8080/"
        },
        "id": "LEHlWMrmUucM",
        "outputId": "5fd2c88c-eb2c-4398-9110-d8cd72875234"
      },
      "execution_count": 59,
      "outputs": [
        {
          "output_type": "execute_result",
          "data": {
            "text/plain": [
              "tensor([0., 0., 1.])"
            ]
          },
          "metadata": {},
          "execution_count": 59
        }
      ]
    },
    {
      "cell_type": "code",
      "source": [
        "#2\n",
        "from abc import ABC, abstractmethod\n"
      ],
      "metadata": {
        "id": "hOx0ZUNhXfn4"
      },
      "execution_count": 60,
      "outputs": []
    },
    {
      "cell_type": "code",
      "source": [
        "class Person(ABC):\n",
        "  def  __init__(self,name,yob):\n",
        "    self.name=name\n",
        "    self.yob=yob\n",
        "  @abstractmethod\n",
        "  def describe(self):\n",
        "    print(f\"I am {self.name}\")\n",
        "class Student(Person):\n",
        "  def __init__(self,name,yob,grade):\n",
        "    super().__init__(name,yob)\n",
        "    self.__grade=grade\n",
        "  def describe(self):\n",
        "    print(f\"I am: {self.name} and I am : {self.yob} years old- Grade: {self.__grade}\")\n"
      ],
      "metadata": {
        "id": "0Uo8C7-4Yi8T"
      },
      "execution_count": 61,
      "outputs": []
    },
    {
      "cell_type": "code",
      "source": [
        "student1=Student(\"Nam\",2001,10)\n",
        "student1.describe()"
      ],
      "metadata": {
        "colab": {
          "base_uri": "https://localhost:8080/"
        },
        "id": "UURAseLdZoTP",
        "outputId": "3cbd41d9-9179-428a-ad5b-7c8778f0af2e"
      },
      "execution_count": 62,
      "outputs": [
        {
          "output_type": "stream",
          "name": "stdout",
          "text": [
            "I am: Nam and I am : 2001 years old- Grade: 10\n"
          ]
        }
      ]
    },
    {
      "cell_type": "code",
      "source": [
        "class Doctor(Person):\n",
        "  def __init__(self,name,yob,specialist):\n",
        "    super().__init__(name,yob)\n",
        "    self.__specialist=specialist\n",
        "  def describe(self):\n",
        "    print(f\"I am: {self.name} and I am : {self.yob} years old- specialist: {self.__specialist}\")"
      ],
      "metadata": {
        "id": "KJ7tF7n0Z12L"
      },
      "execution_count": 63,
      "outputs": []
    },
    {
      "cell_type": "code",
      "source": [
        "doctor1=Doctor(\"Nam\",2001,\"Medicine\")\n",
        "doctor2=Doctor(\"hung\",2002,\"Medicine2\")\n",
        "doctor1.describe()"
      ],
      "metadata": {
        "colab": {
          "base_uri": "https://localhost:8080/"
        },
        "id": "aFd1N-cuZ_nN",
        "outputId": "5fab4391-a7da-4060-cbda-b7eac4edf9e1"
      },
      "execution_count": 64,
      "outputs": [
        {
          "output_type": "stream",
          "name": "stdout",
          "text": [
            "I am: Nam and I am : 2001 years old- specialist: Medicine\n"
          ]
        }
      ]
    },
    {
      "cell_type": "code",
      "source": [
        "class Teacher(Person):\n",
        "  def __init__(self,name,yob,subject):\n",
        "    super().__init__(name,yob)\n",
        "    self.__subject=subject\n",
        "  def describe(self):\n",
        "    print(f\"I am: {self.name} and I am : {self.yob} years old- subject: {self.__subject}\")"
      ],
      "metadata": {
        "id": "lcCO37nqaayG"
      },
      "execution_count": 65,
      "outputs": []
    },
    {
      "cell_type": "code",
      "source": [
        "class Ward:\n",
        "    def __init__(self,name):\n",
        "        self.__name=name\n",
        "        self.__list_people=[]\n",
        "    def add_person(self,person):\n",
        "        self.__list_people.append(person)\n",
        "    def remove_person(self,person):\n",
        "        self.__list_people.remove(person)\n",
        "    def describe(self):\n",
        "        print(f\"Ward: {self.__name}\")\n",
        "        for person in self.__list_people:\n",
        "            person.describe()\n",
        "    def list_people(self):\n",
        "        return self.__list_people\n",
        "    def count_doctor(self):\n",
        "        count=0\n",
        "        for person in self.__list_people:\n",
        "            if isinstance(person,Doctor):\n",
        "                count+=1\n",
        "        return count\n",
        "    def sort_yob(self):\n",
        "        return sorted(self.__list_people,key=lambda x:x.yob)\n",
        "    def compute_average(self):\n",
        "        total=0\n",
        "        count=0\n",
        "        for person in self.__list_people:\n",
        "            if isinstance(person,Teacher):\n",
        "              count +=1\n",
        "              total+=person.yob\n",
        "        return total/len(self.__list_people)"
      ],
      "metadata": {
        "id": "_LKMZbVIaoB3"
      },
      "execution_count": 71,
      "outputs": []
    },
    {
      "cell_type": "code",
      "source": [
        "ward1=Ward(\"Ward1\")\n",
        "ward1.add_person(doctor1)\n",
        "ward1.add_person(doctor2)\n",
        "ward1.add_person(student1)\n",
        "ward1.describe()\n",
        "ward1.list_people()\n",
        "ward1.count_doctor()\n",
        "ward1.sort_yob()"
      ],
      "metadata": {
        "colab": {
          "base_uri": "https://localhost:8080/"
        },
        "collapsed": true,
        "id": "GN0YfPzKcY91",
        "outputId": "5d086f1e-26ce-4327-c15e-c58f744b99fb"
      },
      "execution_count": 72,
      "outputs": [
        {
          "output_type": "stream",
          "name": "stdout",
          "text": [
            "Ward: Ward1\n",
            "I am: Nam and I am : 2001 years old- specialist: Medicine\n",
            "I am: hung and I am : 2002 years old- specialist: Medicine2\n",
            "I am: Nam and I am : 2001 years old- Grade: 10\n"
          ]
        },
        {
          "output_type": "execute_result",
          "data": {
            "text/plain": [
              "[<__main__.Doctor at 0x7ef6796215d0>,\n",
              " <__main__.Student at 0x7ef679623cd0>,\n",
              " <__main__.Doctor at 0x7ef679620c70>]"
            ]
          },
          "metadata": {},
          "execution_count": 72
        }
      ]
    },
    {
      "cell_type": "code",
      "source": [],
      "metadata": {
        "id": "-YjsQQNZeGbg"
      },
      "execution_count": null,
      "outputs": []
    },
    {
      "cell_type": "code",
      "source": [],
      "metadata": {
        "id": "fTiETM0qcqG5"
      },
      "execution_count": null,
      "outputs": []
    }
  ]
}