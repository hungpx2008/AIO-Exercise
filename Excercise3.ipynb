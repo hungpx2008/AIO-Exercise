{
  "nbformat": 4,
  "nbformat_minor": 0,
  "metadata": {
    "colab": {
      "provenance": [],
      "authorship_tag": "ABX9TyOuugb6dgwZDUi8gPPm3xwe",
      "include_colab_link": true
    },
    "kernelspec": {
      "name": "python3",
      "display_name": "Python 3"
    },
    "language_info": {
      "name": "python"
    }
  },
  "cells": [
    {
      "cell_type": "markdown",
      "metadata": {
        "id": "view-in-github",
        "colab_type": "text"
      },
      "source": [
        "<a href=\"https://colab.research.google.com/github/hungpx2008/AIO-Exercise/blob/Feature%2FExercise-activate-funtion/Excercise3.ipynb\" target=\"_parent\"><img src=\"https://colab.research.google.com/assets/colab-badge.svg\" alt=\"Open In Colab\"/></a>"
      ]
    },
    {
      "cell_type": "code",
      "execution_count": 3,
      "metadata": {
        "id": "FLq_Vu1qOPZR"
      },
      "outputs": [],
      "source": [
        "#Viết class và cài phương thức softmax.\n",
        "import torch\n",
        "import torch.nn as nn"
      ]
    },
    {
      "cell_type": "code",
      "source": [
        "data = torch.Tensor([1,2,3])\n",
        "data"
      ],
      "metadata": {
        "colab": {
          "base_uri": "https://localhost:8080/"
        },
        "id": "CF5ZF19rOP3D",
        "outputId": "5a7d2e06-4b2b-4dc7-eac5-c660cf83d718"
      },
      "execution_count": 17,
      "outputs": [
        {
          "output_type": "execute_result",
          "data": {
            "text/plain": [
              "tensor([1., 2., 3.])"
            ]
          },
          "metadata": {},
          "execution_count": 17
        }
      ]
    },
    {
      "cell_type": "code",
      "source": [
        "softmax_function=nn.Softmax(dim=0)\n",
        "output=softmax_function(data)\n",
        "output"
      ],
      "metadata": {
        "colab": {
          "base_uri": "https://localhost:8080/"
        },
        "id": "qpNLVcvZTP6R",
        "outputId": "6b5dbfd0-08bb-4ce6-cf19-319fb348087e"
      },
      "execution_count": 5,
      "outputs": [
        {
          "output_type": "execute_result",
          "data": {
            "text/plain": [
              "tensor([0.0900, 0.2447, 0.6652])"
            ]
          },
          "metadata": {},
          "execution_count": 5
        }
      ]
    },
    {
      "cell_type": "code",
      "source": [
        "class MySoftmax(nn.Module):\n",
        "  def __init__(self):\n",
        "    super().__init__()\n",
        "  def forward(self,x):\n",
        "    x_exp=torch.exp(x)\n",
        "    total=x_exp.sum(0,keepdim=True)\n",
        "    return x_exp/total\n",
        "my_softmax=MySoftmax()\n",
        "output=my_softmax(data)\n",
        "output"
      ],
      "metadata": {
        "colab": {
          "base_uri": "https://localhost:8080/"
        },
        "id": "pMdDjaAsTltl",
        "outputId": "583c1a2c-3e8b-4e2b-a43b-0bc0729d0043"
      },
      "execution_count": 18,
      "outputs": [
        {
          "output_type": "execute_result",
          "data": {
            "text/plain": [
              "tensor([0.0900, 0.2447, 0.6652])"
            ]
          },
          "metadata": {},
          "execution_count": 18
        }
      ]
    },
    {
      "cell_type": "code",
      "source": [
        "class StableSoftmax(nn.Module):\n",
        "  def __init__(self):\n",
        "    super().__init__()\n",
        "  def forward(self,x):\n",
        "    c = torch.max(x,dim=0)\n",
        "    x_exp=torch.exp(x-c.values)\n",
        "    total=x_exp.sum(0,keepdim=True)\n",
        "    return x_exp/total\n",
        "stable_softmax=StableSoftmax()\n",
        "output=stable_softmax(torch.Tensor([1,2,3000000]))\n",
        "output\n",
        ""
      ],
      "metadata": {
        "colab": {
          "base_uri": "https://localhost:8080/"
        },
        "id": "LEHlWMrmUucM",
        "outputId": "8b38d8ff-8c1c-493d-9efe-5661af302f8d"
      },
      "execution_count": 16,
      "outputs": [
        {
          "output_type": "execute_result",
          "data": {
            "text/plain": [
              "tensor([0., 0., 1.])"
            ]
          },
          "metadata": {},
          "execution_count": 16
        }
      ]
    },
    {
      "cell_type": "code",
      "source": [
        "#2\n",
        "from abc import ABC, abstractmethod\n"
      ],
      "metadata": {
        "id": "hOx0ZUNhXfn4"
      },
      "execution_count": 21,
      "outputs": []
    },
    {
      "cell_type": "code",
      "source": [
        "class Person(ABC):\n",
        "  def  __init__(self,name,yob):\n",
        "    self.name=name\n",
        "    self.yob=yob\n",
        "  @abstractmethod\n",
        "  def describe(self):\n",
        "    print(f\"I am {self.name}\")\n",
        "class Student(Person):\n",
        "  def __init__(self,name,yob,grade):\n",
        "    super().__init__(name,yob)\n",
        "    self.__grade=grade\n",
        "  def describe(self):\n",
        "    print(f\"I am: {self.name} and I am : {self.yob} years old- Grade: {self.__grade}\")\n"
      ],
      "metadata": {
        "id": "0Uo8C7-4Yi8T"
      },
      "execution_count": 22,
      "outputs": []
    },
    {
      "cell_type": "code",
      "source": [
        "student1=Student(\"Nam\",2001,10)\n",
        "student1.describe()"
      ],
      "metadata": {
        "colab": {
          "base_uri": "https://localhost:8080/"
        },
        "id": "UURAseLdZoTP",
        "outputId": "b4159637-463b-4ff5-cd33-0aaa5e5ecc6b"
      },
      "execution_count": 23,
      "outputs": [
        {
          "output_type": "stream",
          "name": "stdout",
          "text": [
            "I am: Nam and I am : 2001- Grade: 10\n"
          ]
        }
      ]
    },
    {
      "cell_type": "code",
      "source": [
        "class Doctor(Person):\n",
        "  def __init__(self,name,yob,specialist):\n",
        "    super().__init__(name,yob)\n",
        "    self.__specialist=specialist\n",
        "  def describe(self):\n",
        "    print(f\"I am: {self.name} and I am : {self.yob} years old- specialist: {self.__specialist}\")"
      ],
      "metadata": {
        "id": "KJ7tF7n0Z12L"
      },
      "execution_count": 28,
      "outputs": []
    },
    {
      "cell_type": "code",
      "source": [
        "doctor1=Doctor(\"Nam\",2001,\"Medicine\")\n",
        "doctor2=Doctor(\"hung\",2002,\"Medicine2\")\n",
        "doctor1.describe()"
      ],
      "metadata": {
        "colab": {
          "base_uri": "https://localhost:8080/"
        },
        "id": "aFd1N-cuZ_nN",
        "outputId": "a2724026-84a6-4b3e-837c-f356b419ff97"
      },
      "execution_count": 39,
      "outputs": [
        {
          "output_type": "stream",
          "name": "stdout",
          "text": [
            "I am: Nam and I am : 2001 years old- specialist: Medicine\n"
          ]
        }
      ]
    },
    {
      "cell_type": "code",
      "source": [
        "class Teacher(Person):\n",
        "  def __init__(self,name,yob,subject):\n",
        "    super().__init__(name,yob)\n",
        "    self.__subject=subject\n",
        "  def describe(self):\n",
        "    print(f\"I am: {self.name} and I am : {self.yob} years old- subject: {self.__subject}\")"
      ],
      "metadata": {
        "id": "lcCO37nqaayG"
      },
      "execution_count": 30,
      "outputs": []
    },
    {
      "cell_type": "code",
      "source": [
        "class Ward:\n",
        "    def __init__(self,name):\n",
        "        self.__name=name\n",
        "        self.__list_people=[]\n",
        "    def add_person(self,person):\n",
        "        self.__list_people.append(person)\n",
        "    def remove_person(self,person):\n",
        "        self.__list_people.remove(person)\n",
        "    def describe(self):\n",
        "        print(f\"Ward: {self.__name}\")\n",
        "        for person in self.__list_people:\n",
        "            person.describe()\n",
        "    def list_people(self):\n",
        "        return self.__list_people\n",
        "    def count_doctor(self):\n",
        "        count=0\n",
        "        for person in self.__list_people:\n",
        "            if isinstance(person,Doctor):\n",
        "                count+=1\n",
        "                return count"
      ],
      "metadata": {
        "id": "_LKMZbVIaoB3"
      },
      "execution_count": 48,
      "outputs": []
    },
    {
      "cell_type": "code",
      "source": [
        "ward1=Ward(\"Ward1\")\n",
        "ward1.add_person(doctor1)\n",
        "ward1.add_person(doctor2)\n",
        "ward1.add_person(student1)\n",
        "ward1.describe()\n"
      ],
      "metadata": {
        "colab": {
          "base_uri": "https://localhost:8080/"
        },
        "id": "GN0YfPzKcY91",
        "outputId": "cc207cc2-a672-4fb3-e0c6-1ca73a15c228"
      },
      "execution_count": 52,
      "outputs": [
        {
          "output_type": "stream",
          "name": "stdout",
          "text": [
            "Ward: Ward1\n",
            "I am: Nam and I am : 2001 years old- specialist: Medicine\n",
            "I am: hung and I am : 2002 years old- specialist: Medicine2\n",
            "I am: Nam and I am : 2001- Grade: 10\n"
          ]
        }
      ]
    },
    {
      "cell_type": "code",
      "source": [
        "ward1.count_doctor()"
      ],
      "metadata": {
        "colab": {
          "base_uri": "https://localhost:8080/"
        },
        "id": "fTiETM0qcqG5",
        "outputId": "31175475-5e7b-4527-9455-baac6dfd672c"
      },
      "execution_count": 50,
      "outputs": [
        {
          "output_type": "execute_result",
          "data": {
            "text/plain": [
              "1"
            ]
          },
          "metadata": {},
          "execution_count": 50
        }
      ]
    }
  ]
}