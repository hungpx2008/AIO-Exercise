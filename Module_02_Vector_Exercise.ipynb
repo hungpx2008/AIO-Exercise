{
  "nbformat": 4,
  "nbformat_minor": 0,
  "metadata": {
    "colab": {
      "provenance": [],
      "authorship_tag": "ABX9TyM2bHLIrpNTgwNn86aGW8Jw",
      "include_colab_link": true
    },
    "kernelspec": {
      "name": "python3",
      "display_name": "Python 3"
    },
    "language_info": {
      "name": "python"
    }
  },
  "cells": [
    {
      "cell_type": "markdown",
      "metadata": {
        "id": "view-in-github",
        "colab_type": "text"
      },
      "source": [
        "<a href=\"https://colab.research.google.com/github/hungpx2008/AIO-Exercise/blob/Feature%2FExercise-activate-funtion/Module_02_Vector_Exercise.ipynb\" target=\"_parent\"><img src=\"https://colab.research.google.com/assets/colab-badge.svg\" alt=\"Open In Colab\"/></a>"
      ]
    },
    {
      "cell_type": "code",
      "execution_count": 3,
      "metadata": {
        "id": "JTKm0v5Ed3Da"
      },
      "outputs": [],
      "source": [
        "import numpy as np"
      ]
    },
    {
      "cell_type": "code",
      "source": [
        "vector = np. array ([ -2 , 4 , 9 , 21])\n",
        "def compute_vector_length (vector):\n",
        "    return np.sqrt(np.sum(vector**2))\n",
        "result = compute_vector_length (vector )\n",
        "print ( round (result ,2) )"
      ],
      "metadata": {
        "colab": {
          "base_uri": "https://localhost:8080/"
        },
        "id": "_IJllZaqeX0_",
        "outputId": "404c5adb-29b6-4f5f-807a-72aa2163d6bf"
      },
      "execution_count": 6,
      "outputs": [
        {
          "output_type": "stream",
          "name": "stdout",
          "text": [
            "23.28\n"
          ]
        }
      ]
    },
    {
      "cell_type": "code",
      "source": [
        "v1 = np. array ([0 , 1 , -1 , 2])\n",
        "v2 = np. array ([2 , 5 , 1 , 0])\n",
        "def compute_dot_product (v1 , v2):\n",
        "    return np.sum(v1*v2)\n",
        "result = compute_dot_product (v1 , v2)\n",
        "print ( round (result ,2) )"
      ],
      "metadata": {
        "colab": {
          "base_uri": "https://localhost:8080/"
        },
        "id": "4xVSMYgufcic",
        "outputId": "148eadf5-fda1-49dc-89f7-c5a0d4742759"
      },
      "execution_count": 7,
      "outputs": [
        {
          "output_type": "stream",
          "name": "stdout",
          "text": [
            "4\n"
          ]
        }
      ]
    },
    {
      "cell_type": "code",
      "source": [
        "x = np. array ([[1 , 2] ,[3 , 4]])\n",
        "k = np. array ([1 , 2])\n",
        "print ('result \\n', k.dot (x) )"
      ],
      "metadata": {
        "colab": {
          "base_uri": "https://localhost:8080/"
        },
        "id": "M_8kgqUDfv3Z",
        "outputId": "6146bbc5-aa5b-47b2-90ba-7cdbaf488af1"
      },
      "execution_count": 9,
      "outputs": [
        {
          "output_type": "stream",
          "name": "stdout",
          "text": [
            "result \n",
            " [ 7 10]\n"
          ]
        }
      ]
    },
    {
      "cell_type": "code",
      "source": [
        "x = np. array ([[ -1 , 2] ,[3 , -4]])\n",
        "k = np. array ([1 , 2])\n",
        "print ('result \\n', k@x )"
      ],
      "metadata": {
        "colab": {
          "base_uri": "https://localhost:8080/"
        },
        "id": "-vf_L91pgiBD",
        "outputId": "44850fe9-bef9-4160-b4c7-eb0c332f1ebd"
      },
      "execution_count": 11,
      "outputs": [
        {
          "output_type": "stream",
          "name": "stdout",
          "text": [
            "result \n",
            " [ 5 -6]\n"
          ]
        }
      ]
    },
    {
      "cell_type": "code",
      "source": [
        "m = np. array ([[ -1 , 1 , 1] , [0 , -4 , 9]])\n",
        "v = np. array ([0 , 2 , 1])\n",
        "def matrix_multi_vector (m , v):\n",
        "    return m@v\n",
        "result = matrix_multi_vector(m, v)\n",
        "print ( result )"
      ],
      "metadata": {
        "colab": {
          "base_uri": "https://localhost:8080/"
        },
        "id": "hGrCv8GRgwEg",
        "outputId": "1201b3a7-0c23-4c9f-a779-fd3de5d08760"
      },
      "execution_count": 12,
      "outputs": [
        {
          "output_type": "stream",
          "name": "stdout",
          "text": [
            "[3 1]\n"
          ]
        }
      ]
    },
    {
      "cell_type": "code",
      "source": [
        "m1 = np. array ([[0 , 1 , 2] , [2 , -3 , 1]])\n",
        "m2 = np. array ([[1 , -3] ,[6 , 1] , [0 , -1]])\n",
        "def matrix_multi_matrix (m1 , m2):\n",
        "    return m1@m2\n",
        "result = matrix_multi_matrix (m1 , m2)\n",
        "print ( result )"
      ],
      "metadata": {
        "colab": {
          "base_uri": "https://localhost:8080/"
        },
        "id": "v_hHux9qhkZb",
        "outputId": "1fa82311-8958-48a2-dca5-cdef398e7408"
      },
      "execution_count": 13,
      "outputs": [
        {
          "output_type": "stream",
          "name": "stdout",
          "text": [
            "[[  6  -1]\n",
            " [-16 -10]]\n"
          ]
        }
      ]
    },
    {
      "cell_type": "code",
      "source": [
        "m1 = np.eye (3)\n",
        "print(m1)\n",
        "m2 = np. array ([[1 , 1 , 1] ,[2 , 2 , 2] , [3 , 3 , 3]])\n",
        "result = m1@m2\n",
        "print ( result )"
      ],
      "metadata": {
        "colab": {
          "base_uri": "https://localhost:8080/"
        },
        "id": "9usAesoAjDs6",
        "outputId": "56348e79-f5df-417e-dde4-a7aa25181193"
      },
      "execution_count": 16,
      "outputs": [
        {
          "output_type": "stream",
          "name": "stdout",
          "text": [
            "[[1. 0. 0.]\n",
            " [0. 1. 0.]\n",
            " [0. 0. 1.]]\n",
            "[[1. 1. 1.]\n",
            " [2. 2. 2.]\n",
            " [3. 3. 3.]]\n"
          ]
        }
      ]
    },
    {
      "cell_type": "code",
      "source": [
        "m1 = np.eye (2)\n",
        "m1 = np. reshape (m1 ,( -1 ,4) ) [0]\n",
        "print('m1',m1)\n",
        "m2 = np. array ([[1 , 1 , 1 , 1] ,[2 , 2 , 2 , 2] , [3 , 3 , 3 , 3] , [4 , 4 , 4 , 4]])\n",
        "result = m1@m2\n",
        "print ( result )"
      ],
      "metadata": {
        "colab": {
          "base_uri": "https://localhost:8080/"
        },
        "id": "lDdIrOhHkbFP",
        "outputId": "04ebc136-94cc-44f6-fb26-3c6f3a11910d"
      },
      "execution_count": 18,
      "outputs": [
        {
          "output_type": "stream",
          "name": "stdout",
          "text": [
            "m1 [1. 0. 0. 1.]\n",
            "[5. 5. 5. 5.]\n"
          ]
        }
      ]
    },
    {
      "cell_type": "code",
      "source": [
        "m1 = np. array ([[1 , 2] , [3 , 4]])\n",
        "m1 = np. reshape (m1 ,( -1 ,4) , \"F\") [0]\n",
        "m2 = np. array ([[1 , 1 , 1 , 1] ,[2 , 2 , 2 , 2] , [3 , 3 , 3 , 3] , [4 , 4 , 4 , 4]])\n",
        "result = m1@m2\n",
        "print ( result )"
      ],
      "metadata": {
        "colab": {
          "base_uri": "https://localhost:8080/"
        },
        "id": "9sxe0cuBmRic",
        "outputId": "780054b6-3850-4005-d52c-b0e27c451d8e"
      },
      "execution_count": 19,
      "outputs": [
        {
          "output_type": "stream",
          "name": "stdout",
          "text": [
            "[29 29 29 29]\n"
          ]
        }
      ]
    },
    {
      "cell_type": "code",
      "source": [
        "m1 = np. array ([[ -2 , 6] , [8 , -4]])\n",
        "def inverse_matrix (m1):\n",
        "    return np.linalg.inv(m1)\n",
        "result = inverse_matrix (m1)\n",
        "print ( result )"
      ],
      "metadata": {
        "colab": {
          "base_uri": "https://localhost:8080/"
        },
        "id": "SEqPDJpYmzgO",
        "outputId": "10912499-19f0-4eac-ea18-a3bcb587c6e4"
      },
      "execution_count": 20,
      "outputs": [
        {
          "output_type": "stream",
          "name": "stdout",
          "text": [
            "[[0.1  0.15]\n",
            " [0.2  0.05]]\n"
          ]
        }
      ]
    },
    {
      "cell_type": "code",
      "source": [
        "matrix = np. array ([[0.9 , 0.2] , [0.1 , 0.8]])\n",
        "def compute_eigenvalues_eigenvectors (matrix):\n",
        "    eigenvalues , eigenvectors = np.linalg.eig(matrix)\n",
        "    return eigenvalues , eigenvectors\n",
        "eigenvalues , eigenvectors = compute_eigenvalues_eigenvectors ( matrix )\n",
        "print ( eigenvectors )"
      ],
      "metadata": {
        "colab": {
          "base_uri": "https://localhost:8080/"
        },
        "id": "YxS9j98MoP5N",
        "outputId": "719fbff7-06cf-48c4-bdda-d43a78a3875c"
      },
      "execution_count": 22,
      "outputs": [
        {
          "output_type": "stream",
          "name": "stdout",
          "text": [
            "[[ 0.89442719 -0.70710678]\n",
            " [ 0.4472136   0.70710678]]\n"
          ]
        }
      ]
    },
    {
      "cell_type": "code",
      "source": [
        "x = np. array ([1 , 2 , 3 , 4])\n",
        "y = np. array ([1 , 0 , 3 , 0])\n",
        "def compute_cosine (x , y):\n",
        "    return np.dot(x,y)/(np.linalg.norm(x)*np.linalg.norm(y))\n",
        "result = compute_cosine (x,y)\n",
        "print ( round (result , 3) )"
      ],
      "metadata": {
        "colab": {
          "base_uri": "https://localhost:8080/"
        },
        "id": "D_mBYLPRoyYE",
        "outputId": "4c9907b5-a9b3-4e6e-c9fb-7ea45ac098ec"
      },
      "execution_count": 23,
      "outputs": [
        {
          "output_type": "stream",
          "name": "stdout",
          "text": [
            "0.577\n"
          ]
        }
      ]
    }
  ]
}