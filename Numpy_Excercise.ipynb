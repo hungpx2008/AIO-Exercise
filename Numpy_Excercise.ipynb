{
  "nbformat": 4,
  "nbformat_minor": 0,
  "metadata": {
    "colab": {
      "provenance": [],
      "authorship_tag": "ABX9TyMxkeDGbTBrcJAvQAcwN9EH",
      "include_colab_link": true
    },
    "kernelspec": {
      "name": "python3",
      "display_name": "Python 3"
    },
    "language_info": {
      "name": "python"
    }
  },
  "cells": [
    {
      "cell_type": "markdown",
      "metadata": {
        "id": "view-in-github",
        "colab_type": "text"
      },
      "source": [
        "<a href=\"https://colab.research.google.com/github/hungpx2008/AIO-Exercise/blob/Feature%2FExercise-activate-funtion/Numpy_Excercise.ipynb\" target=\"_parent\"><img src=\"https://colab.research.google.com/assets/colab-badge.svg\" alt=\"Open In Colab\"/></a>"
      ]
    },
    {
      "cell_type": "code",
      "execution_count": null,
      "metadata": {
        "id": "mIJFAlvA3kEx"
      },
      "outputs": [],
      "source": [
        "# Câu hỏi 12: Hoàn thành đoạn code sau đây để chuyển ảnh màu sang ảnh xám dựa vào phương pháp Lightness:\n",
        "! gdown 1i9dqan21DjQoG5Q_VEvm0LrVwAlXD0vB\n",
        "\n",
        "import matplotlib.pyplot as plt\n",
        "import numpy as np\n",
        "\n",
        "img = mpimg.imread('/content/dog.jpeg')\n",
        "\n",
        "def rgb_to_gray_lightness(rgb_image):\n",
        "  R, G, B = rgb_image[:, :, 0], rgb_image[:, :, 1], rgb_image[:, :, 2]\n",
        "  gray_img = (np.max(rgb_image, axis=2) + np.min(rgb_image, axis=2)) / 2\n",
        "  return gray_img\n",
        "\n",
        "gray_img_01 = rgb_to_gray_lightness(img)\n",
        "\n",
        "plt.imshow(gray_img_01, cmap='gray')\n",
        "plt.show()\n",
        "\n",
        "print(gray_img_01[0, 0])"
      ]
    },
    {
      "cell_type": "code",
      "source": [
        "\n",
        "#Câu hỏi 13: Hoàn thành đoạn code sau đây để chuyển ảnh màu sang ảnh xám dựa vào phương pháp Average:\n",
        "def rgb_to_gray_average(rgb_image):\n",
        "  R, G, B = rgb_image[:, :, 0], rgb_image[:, :, 1], rgb_image[:, :, 2]\n",
        "  gray_img = (R + G + B) / 3\n",
        "  return gray_img\n",
        "\n",
        "gray_img_02 = rgb_to_gray_average(img)\n",
        "\n",
        "plt.imshow(gray_img_02, cmap='gray')\n",
        "plt.show()\n",
        "print(gray_img_02[0, 0])"
      ],
      "metadata": {
        "id": "3Nmvn2t86hJs"
      },
      "execution_count": null,
      "outputs": []
    },
    {
      "cell_type": "code",
      "source": [
        "#Câu hỏi 14: Hoàn thành đoạn code sau đây để chuyển ảnh màu sang ảnh xám dựa vào phương pháp Luminosity:\n",
        "def rgb_to_gray_luminosity(rgb_image):\n",
        "  R, G, B = rgb_image[:, :, 0], rgb_image[:, :, 1], rgb_image[:, :, 2]\n",
        "  gray_img = 0.2126 * R + 0.7152 * G + 0.0722 * B\n",
        "  return gray_img\n",
        "\n",
        "gray_img_03 = rgb_to_gray_luminosity(img)\n",
        "\n",
        "plt.imshow(gray_img_03, cmap='gray')\n",
        "plt.show()\n",
        "\n",
        "print(gray_img_03[0, 0])"
      ],
      "metadata": {
        "id": "ne-Jj71k8BtV"
      },
      "execution_count": null,
      "outputs": []
    },
    {
      "cell_type": "code",
      "source": [
        "! gdown 1iA0WmVfW88HyJvTBSQDI5vesf-pgKabq\n",
        "\n",
        "import pandas as pd\n",
        "df = pd.read_csv('/content/advertising.csv')\n",
        "data = df . to_numpy ()\n",
        "max_value = df['Sales'].max()\n",
        "max_index = df['Sales'].idxmax()\n",
        "print('Max:',max_value)\n",
        "print('index:',max_index)"
      ],
      "metadata": {
        "id": "XHEdBAJ683_v"
      },
      "execution_count": null,
      "outputs": []
    },
    {
      "cell_type": "code",
      "source": [
        "mean_tv = df['TV'].mean()\n",
        "print('mean_tv:',mean_tv)"
      ],
      "metadata": {
        "colab": {
          "base_uri": "https://localhost:8080/"
        },
        "id": "HHGTzze6-t0Z",
        "outputId": "e8120809-3361-4a65-9ad5-0ca94f8f1d8c"
      },
      "execution_count": 28,
      "outputs": [
        {
          "output_type": "stream",
          "name": "stdout",
          "text": [
            "mean_tv: 147.0425\n"
          ]
        }
      ]
    },
    {
      "cell_type": "code",
      "source": [
        "count_sales_ge_20 = (df['Sales'] >= 20).sum()\n",
        "print('count_sales_ge_20:',count_sales_ge_20)"
      ],
      "metadata": {
        "colab": {
          "base_uri": "https://localhost:8080/"
        },
        "id": "--fTeQGM_Fzc",
        "outputId": "e0f73aa3-8d40-4cad-e772-2b0c1f03bc35"
      },
      "execution_count": 29,
      "outputs": [
        {
          "output_type": "stream",
          "name": "stdout",
          "text": [
            "count_sales_ge_20: 40\n"
          ]
        }
      ]
    },
    {
      "cell_type": "code",
      "source": [
        "filtered_df = df[df['Sales'] >= 15]\n",
        "mean_radio_filtered = filtered_df['Radio'].mean()\n",
        "print('mean_radio_filtered:',mean_radio_filtered)"
      ],
      "metadata": {
        "colab": {
          "base_uri": "https://localhost:8080/"
        },
        "id": "_Xhec4tS_ccW",
        "outputId": "35c5f9e7-31b6-4cf6-ab1d-1c883cd78a39"
      },
      "execution_count": 30,
      "outputs": [
        {
          "output_type": "stream",
          "name": "stdout",
          "text": [
            "mean_radio_filtered: 26.22293577981651\n"
          ]
        }
      ]
    },
    {
      "cell_type": "code",
      "source": [
        "mean_newspaper = df['Newspaper'].mean()\n",
        "filtered_df = df[df['Newspaper'] > mean_newspaper]\n",
        "total_sales_filtered = filtered_df['Sales'].sum()\n",
        "print('total_sales_filtered:',total_sales_filtered)"
      ],
      "metadata": {
        "colab": {
          "base_uri": "https://localhost:8080/"
        },
        "id": "sa1_4nRR_wzT",
        "outputId": "03abe287-37c2-408d-f352-a58563e8e9ac"
      },
      "execution_count": 31,
      "outputs": [
        {
          "output_type": "stream",
          "name": "stdout",
          "text": [
            "total_sales_filtered: 1405.1\n"
          ]
        }
      ]
    },
    {
      "cell_type": "code",
      "source": [
        "A = df['Sales'].mean()\n",
        "scores = ['Good' if sale > A else 'Bad' if sale < A else 'Average' for sale in df['Sales']]\n",
        "print(f\"Kết quả scores[7:10]: {scores[7:10]}\")\n"
      ],
      "metadata": {
        "colab": {
          "base_uri": "https://localhost:8080/"
        },
        "id": "vKM2FdVfAV9J",
        "outputId": "21d3fe8f-8df7-43c2-9584-0a036133c51e"
      },
      "execution_count": 32,
      "outputs": [
        {
          "output_type": "stream",
          "name": "stdout",
          "text": [
            "Kết quả scores[7:10]: ['Bad', 'Bad', 'Good']\n"
          ]
        }
      ]
    },
    {
      "cell_type": "code",
      "source": [
        "A_mean = df['Sales'].mean()\n",
        "A_1 = df['Sales'].iloc[(df['Sales'] - A_mean).abs().argmin()]\n",
        "scores = ['Good' if sale > A_1 else 'Bad' if sale < A_1 else 'Average' for sale in df['Sales']]\n",
        "print(f\"Kết quả scores[7:10]: {scores[7:10]}\")\n"
      ],
      "metadata": {
        "colab": {
          "base_uri": "https://localhost:8080/"
        },
        "id": "wyrwZJkNAkum",
        "outputId": "756b6c23-0b67-4d8d-afe5-88fcf48d6039"
      },
      "execution_count": 33,
      "outputs": [
        {
          "output_type": "stream",
          "name": "stdout",
          "text": [
            "Kết quả scores[7:10]: ['Bad', 'Bad', 'Good']\n"
          ]
        }
      ]
    }
  ]
}